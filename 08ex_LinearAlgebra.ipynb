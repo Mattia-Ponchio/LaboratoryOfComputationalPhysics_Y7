{
 "cells": [
  {
   "cell_type": "markdown",
   "metadata": {},
   "source": [
    "1\\. **PCA on 3D dataset**\n",
    "\n",
    "* Generate a dataset with 3 features each with N entries (N being ${\\cal O}(1000)$). With $N(\\mu,\\sigma)$ the normal distribution with mean $\\mu$ and $\\sigma$  standard deviation, generate the 3 variables $x_{1,2,3}$ such that:\n",
    "    * $x_1$ is distributed as $N(0,1)$\n",
    "    * $x_2$ is distributed as $x_1+N(0,3)$\n",
    "    * $x_3$ is given by $2x_1+x_2$\n",
    "* Find the eigenvectors and eigenvalues of the covariance matrix of the dataset\n",
    "* Find the eigenvectors and eigenvalues using SVD. Check that the two procedures yield to same result\n",
    "* What percent of the total dataset's variability is explained by the principal components? Given how the dataset was constructed, do these make sense? Reduce the dimensionality of the system so that at least 99% of the total variability is retained.\n",
    "* Redefine the data in the basis yielded by the PCA procedure\n",
    "* Plot the data points in the original and the new coordiantes as a set of scatter plots. Your final figure should have 2 rows of 3 plots each, where the columns show the (0,1), (0,2) and (1,2) proejctions.\n"
   ]
  },
  {
   "cell_type": "code",
   "execution_count": 1,
   "metadata": {},
   "outputs": [],
   "source": [
    "import numpy as np\n",
    "import numpy.random as npr\n",
    "import pandas as pd\n",
    "from scipy import linalg as la\n",
    "\n",
    "import matplotlib.pyplot as plt\n",
    "%matplotlib inline"
   ]
  },
  {
   "cell_type": "code",
   "execution_count": 62,
   "metadata": {},
   "outputs": [
    {
     "name": "stdout",
     "output_type": "stream",
     "text": [
      "Covariance Matrix \n",
      " [[ 0.98116436  1.12855974  3.09088845]\n",
      " [ 1.12855974 10.1209376  12.37805708]\n",
      " [ 3.09088845 12.37805708 18.55983399]] \n",
      "\n",
      "Eigenvalues with eig \n",
      " [27.79313115 -0.          1.8688048 ] \n",
      "\n",
      "[[-0.11755115 -0.81649658  0.56525663]\n",
      " [-0.57474401 -0.40824829 -0.7092268 ]\n",
      " [-0.80984631  0.40824829  0.42128646]] \n",
      "\n",
      "shapes: (3, 3) (3,) (3, 3) \n",
      "\n",
      "Spectrum \n",
      " [27.79313115  1.8688048   0.        ] \n",
      "\n",
      "U \n",
      " [[-0.11755115  0.56525663 -0.81649658]\n",
      " [-0.57474401 -0.7092268  -0.40824829]\n",
      " [-0.80984631  0.42128646  0.40824829]] \n",
      "\n",
      "Vt \n",
      " [[-0.11755115 -0.57474401 -0.80984631]\n",
      " [ 0.56525663 -0.7092268   0.42128646]\n",
      " [ 0.81649658  0.40824829 -0.40824829]] \n",
      "\n",
      "Covariance matrix reconstructed from SVD by definition \n",
      " [[ 0.98116436  1.12855974  3.09088845]\n",
      " [ 1.12855974 10.1209376  12.37805708]\n",
      " [ 3.09088845 12.37805708 18.55983399]] \n",
      "\n",
      "Eigenvalues with svd \n",
      " [27.79313115  1.8688048   0.        ] \n",
      "\n",
      "[[-0.11755115  0.56525663 -0.81649658]\n",
      " [-0.57474401 -0.7092268  -0.40824829]\n",
      " [-0.80984631  0.42128646  0.40824829]] \n",
      "\n"
     ]
    }
   ],
   "source": [
    "N = 2000\n",
    "X = np.zeros((N,3))\n",
    "X[:,0] = npr.normal(0,1, N)\n",
    "X[:,1] = X[:,0] + npr.normal(0,3,N)\n",
    "X[:,2] = 2*X[:,0] + X[:,1]\n",
    "\n",
    "np.set_printoptions(suppress=True)\n",
    "\n",
    "Cov = np.cov(X.T)\n",
    "print(\"Covariance Matrix\", '\\n', Cov,'\\n')\n",
    "l, V = la.eig(Cov)\n",
    "print(\"Eigenvalues with eig\",'\\n',np.real_if_close(l),'\\n')\n",
    "print(V,'\\n')\n",
    "\n",
    "U, spectrum, Vt = la.svd(Cov)\n",
    "print(\"shapes:\", U.shape,  spectrum.shape, Vt.shape, '\\n')\n",
    "\n",
    "print (\"Spectrum\", '\\n',np.real_if_close(spectrum),'\\n')\n",
    "print (\"U \\n\", U,'\\n')\n",
    "print (\"Vt \\n\", Vt,'\\n')\n",
    "\n",
    "# Let's verify the definition of SVD by hand\n",
    "D = np.zeros((3,3))\n",
    "for i in range(3):\n",
    "    D[i, i] = spectrum[i]\n",
    "SVD = np.dot(U, np.dot(D, Vt))\n",
    "print (\"Covariance matrix reconstructed from SVD by definition \\n\", SVD, '\\n')\n",
    "np.allclose(SVD, Cov)\n",
    "\n",
    "X0 = [X[:,i] - np.mean(X[:,i]) for i in range (0,3)]\n",
    "U0, spectrum0, Vt0 = np.linalg.svd(X0)\n",
    "\n",
    "l_svd = spectrum0**2/(N-1)\n",
    "V_svd = U0\n",
    "print(\"Eigenvalues with svd\",'\\n',l_svd, '\\n')\n",
    "print(V_svd, '\\n')"
   ]
  },
  {
   "cell_type": "code",
   "execution_count": 75,
   "metadata": {},
   "outputs": [
    {
     "name": "stdout",
     "output_type": "stream",
     "text": [
      "[[27.79313115  0.          0.        ]\n",
      " [ 0.         -0.          0.        ]\n",
      " [ 0.          0.          1.8688048 ]]\n",
      "A.trace(): 29.661935948472134\n",
      "Lambda.trace(): 29.66193594847215\n",
      "1st eigenvalue weight \n",
      " 0.9369965331316857\n",
      "2nd eigenvalue weight \n",
      " -7.196162477714215e-18\n",
      "3rd eigenvalue weight \n",
      " 0.0630034668683142\n"
     ]
    }
   ],
   "source": [
    "Lambda=np.diag(l)\n",
    "print (np.real_if_close(Lambda))\n",
    "print (\"A.trace():\", Cov.trace())\n",
    "print (\"Lambda.trace():\", np.real_if_close(Lambda.trace()))\n",
    "\n",
    "print (\"1st eigenvalue weight \\n\", np.real_if_close(Lambda[0,0])/np.real_if_close(Lambda.trace()))\n",
    "print (\"2nd eigenvalue weight \\n\", np.real_if_close(Lambda[1,1])/np.real_if_close(Lambda.trace()))\n",
    "print (\"3rd eigenvalue weight \\n\", np.real_if_close(Lambda[2,2])/np.real_if_close(Lambda.trace()))"
   ]
  },
  {
   "cell_type": "markdown",
   "metadata": {},
   "source": [
    "2\\. **PCA on a nD dataset**\n",
    "\n",
    "Start from the dataset you have genereted in the previous exercise and add uncorrelated random noise. Such noise should be represented by other 10 uncorrelated variables normal distributed, with standar deviation much smaller (say, a factor 50) than those used to generate the $x_1$ and $x_2$.\n",
    "\n",
    "Repeat the PCA procedure and compare the results with what you obtained before"
   ]
  },
  {
   "cell_type": "markdown",
   "metadata": {},
   "source": [
    "3 \\. **Looking at an oscillating spring** (optional)\n",
    "\n",
    "Imagine you have $n$ cameras looking at a spring oscillating along the $x$ axis. Each  camera record the motion of the spring looking at it along a given direction defined by the pair $(\\theta_i, \\phi_i)$, the angles in spherical coordinates. \n",
    "\n",
    "Start from the simulation of the records (say ${\\cal O}(1000)$) of the spring's motion along the x axis, assuming a little random noise affects the measurements along the $y$. Rotate such dataset to emulate the records of each camera.\n",
    "\n",
    "Perform a Principal Component Analysis on the thus obtained dataset, aiming at finding the only one coordinate that really matters.\n"
   ]
  },
  {
   "cell_type": "markdown",
   "metadata": {},
   "source": [
    "4\\. **PCA on the MAGIC dataset** (optional)\n",
    "\n",
    "Perform a PCA on the magic04.data dataset"
   ]
  },
  {
   "cell_type": "code",
   "execution_count": null,
   "metadata": {},
   "outputs": [],
   "source": [
    "# get the dataset and its description on the proper data directory\n",
    "!wget https://archive.ics.uci.edu/ml/machine-learning-databases/magic/magic04.data -P ~/data/\n",
    "!wget https://archive.ics.uci.edu/ml/machine-learning-databases/magic/magic04.names -P ~/data/ "
   ]
  }
 ],
 "metadata": {
  "kernelspec": {
   "display_name": "Python 3",
   "language": "python",
   "name": "python3"
  },
  "language_info": {
   "codemirror_mode": {
    "name": "ipython",
    "version": 3
   },
   "file_extension": ".py",
   "mimetype": "text/x-python",
   "name": "python",
   "nbconvert_exporter": "python",
   "pygments_lexer": "ipython3",
   "version": "3.6.8"
  }
 },
 "nbformat": 4,
 "nbformat_minor": 2
}
