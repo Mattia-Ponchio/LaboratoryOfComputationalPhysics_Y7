{
 "cells": [
  {
   "cell_type": "markdown",
   "metadata": {},
   "source": [
    "# OSEMN Exercises"
   ]
  },
  {
   "cell_type": "code",
   "execution_count": 1,
   "metadata": {},
   "outputs": [],
   "source": [
    "%matplotlib inline\n",
    "import pandas as pd\n",
    "import numpy as np\n",
    "import numpy.random as npr\n",
    "npr.seed(42)"
   ]
  },
  {
   "cell_type": "markdown",
   "metadata": {},
   "source": [
    "1\\. Create a random list of number and then save it to a text file named \"simple_data.txt\""
   ]
  },
  {
   "cell_type": "code",
   "execution_count": 2,
   "metadata": {},
   "outputs": [],
   "source": [
    "file_name = \"simple_data.txt\"\n",
    "data = npr.randint(0,101,100,dtype = np.intp)\n",
    "np.savetxt(file_name,data, fmt=\"%.0f\")\n",
    "#with open(file_name, mode='w') as f:\n",
    " #   f.write(str(data))\n",
    "  #  f.close()"
   ]
  },
  {
   "cell_type": "markdown",
   "metadata": {},
   "source": [
    "2\\. Create a random matrix of 5x5 and then save it to a text file named \"data.txt\""
   ]
  },
  {
   "cell_type": "code",
   "execution_count": 3,
   "metadata": {},
   "outputs": [],
   "source": [
    "file_name_matrix = \"data.txt\"\n",
    "Matrix = npr.randint(0,101,(5,5),dtype = np.intp)\n",
    "np.savetxt(file_name_matrix,Matrix, fmt=\"%.0f\")"
   ]
  },
  {
   "cell_type": "markdown",
   "metadata": {},
   "source": [
    "3\\. Load the saved txt file of point 2 and convert it to a csv file (by hand)"
   ]
  },
  {
   "cell_type": "code",
   "execution_count": 4,
   "metadata": {},
   "outputs": [
    {
     "name": "stdout",
     "output_type": "stream",
     "text": [
      "['23,', '25,', '88,', '59,', '40,', '28,', '14,', '44,', '64,', '88,', '70,', '8,', '87,', '0,', '7,', '87,', '62,', '10,', '80,', '7,', '34,', '34,', '32,', '4,', '40,']\n",
      "['23,' '25,' '88,' '59,' '40,' '28,' '14,' '44,' '64,' '88,' '70,' '8,'\n",
      " '87,' '0,' '7,' '87,' '62,' '10,' '80,' '7,' '34,' '34,' '32,' '4,' '40,']\n",
      "[['23,' '25,' '88,' '59,' '40,']\n",
      " ['28,' '14,' '44,' '64,' '88,']\n",
      " ['70,' '8,' '87,' '0,' '7,']\n",
      " ['87,' '62,' '10,' '80,' '7,']\n",
      " ['34,' '34,' '32,' '4,' '40,']]\n"
     ]
    }
   ],
   "source": [
    "x = []\n",
    "with open(file_name_matrix, mode='r') as f:\n",
    "    for line in f:\n",
    "        for c in line.split(): x.append(c+\",\")\n",
    "print(x)\n",
    "\n",
    "y = np.array(x,dtype=str)\n",
    "print(y)\n",
    "y = y.reshape((5,5))\n",
    "print(y)\n",
    "\n",
    "!touch \"data_csv.txt\"\n",
    "with open(\"data_csv.txt\", mode='w') as f:\n",
    "    for row in y:\n",
    "        for column in row: f.write(str(column))\n",
    "        f.write(\"\\n\")\n",
    "    "
   ]
  },
  {
   "cell_type": "markdown",
   "metadata": {},
   "source": [
    "4\\. load the binary file named *credit_card.dat* and convert the data into the real credit-card number.\n",
    "Each line correspond to a credit card number.\n",
    "Each character is composed by 6 bit (even the space) and the last 4 bit are just a padding\n",
    "\n",
    "**hint**: use the `chr()` function to convert a number to a char"
   ]
  },
  {
   "cell_type": "code",
   "execution_count": 103,
   "metadata": {},
   "outputs": [
    {
     "name": "stdout",
     "output_type": "stream",
     "text": [
      "110101 110110 110111 110011\n",
      "7648\n",
      "5673\n",
      "2271\n",
      "['7648 5673 3775 2271', '3257 8247 3354 2266', '2722 0001 4011 6652', '0661 3063 3742 3150', '0432 1608 1462 4742', '5827 2027 8785 7303', '5774 8528 2087 1117', '8140 1210 6352 2845', '5764 1133 7301 7100', '6456 1737 4126 6726', '1228 8631 7382 0000', '7051 0160 5374 3166', '0618 3587 1630 6376', '1545 5454 7444 5636', '6735 3116 3202 6834', '7287 5011 1547 8413', '7033 2607 3328 4200', '2568 5244 1874 5024', '1684 2253 7570 7118', '0672 2576 0575 6631', '6332 8353 8787 1340', '1813 3361 1175 4211', '2477 6450 8840 2368', '5512 3505 2563 1326', '3083 7882 0621 0025', '4521 5148 8045 0334', '7563 3654 8713 5787', '8324 2664 0476 5561', '0565 2504 7168 3510', '5107 5507 1767 0738', '2462 1821 2448 1443', '2788 0638 6861 6554', '5851 5873 5474 0547', '0670 1004 4013 2655', '5874 5506 3048 0806', '2805 5401 8462 1260', '5083 8406 6310 1862', '1076 1445 3013 2266', '8440 4804 4844 5277', '4758 6141 0686 1387', '7586 0675 0315 2568', '2544 1258 7432 5165', '3474 5023 4434 5626', '1410 0270 0434 5086', '7315 4446 1104 4215', '0224 7742 8300 0266', '0170 2700 3145 0640', '2006 2437 8054 1600', '8142 4055 1776 0026', '3026 7380 1241 1084', '']\n"
     ]
    }
   ],
   "source": [
    "sp = chr(int(\"100000\",2))  #This is the space\n",
    "v = chr(int(\"110111\",2)) + chr(int(\"110110\",2)) + chr(int(\"110100\",2)) + chr(int(\"111000\",2))\n",
    "b = \"110101110110110111110011\"\n",
    "b1 = b[0:6]\n",
    "b2 = b[6:12]\n",
    "b3 = b[12:18]\n",
    "b4 = b[18:24]\n",
    "print(b1,b2,b3,b4)\n",
    "\n",
    "#n = 110011110111110111110101\n",
    "m = \"110010110010110111110001\"\n",
    "m1 = m[0:6]\n",
    "m2 = m[6:12]\n",
    "m3 = m[12:18]\n",
    "m4 = m[18:24]\n",
    "print(v)\n",
    "print(chr(int(b1,2))+chr(int(b2,2))+chr(int(b3,2))+chr(int(b4,2)))\n",
    "print(chr(int(m1,2))+chr(int(m2,2))+chr(int(m3,2))+chr(int(m4,2)))\n",
    "\n",
    "lines=!grep -c -v \"^#\" \"credit_card.dat\"\n",
    "lines = str(lines)[2:-2]\n",
    "lines = int(lines) - 1       # Remove final line with only padding from the counting\n",
    "\n",
    "numbers = [\"\" for i in range (0,lines+1)]\n",
    "lc = 0               # Line counter\n",
    "\n",
    "with open(\"credit_card.dat\", mode='r') as f:\n",
    "    for line in f:\n",
    "        l = len(line)         # This is 119\n",
    "        eff_l = l - 1 - 4     # One from space, 4 from padding, so 114,which is 24*4 + 6*3, so 4 four-digits numbers and 3 spaces\n",
    "        N = eff_l//6          # This is 19: 16 for the numbers plus 3 for the spaces\n",
    "        tmp = \"\"\n",
    "        for i in range (0,N):\n",
    "            A = line[i*6:(i+1)*6]\n",
    "            tmp += chr(int(A,2))\n",
    "        #last_num = line[(N-1)*6:6*N-5]\n",
    "        #tmp += last_num\n",
    "        numbers[lc] = tmp\n",
    "        tmp = \"\"\n",
    "        lc +=1\n",
    "print(numbers)"
   ]
  },
  {
   "cell_type": "markdown",
   "metadata": {},
   "source": [
    "5\\. Load the file \"user_data.json\", filter the data by the \"CreditCardType\" field equals to \"American Express\". Than save the data a to CSV."
   ]
  },
  {
   "cell_type": "markdown",
   "metadata": {},
   "source": [
    "6\\. Load the file from this url: [https://www.dropbox.com/s/7u3lm737ogbqsg8/mushrooms_categorized.csv?dl=1](https://www.dropbox.com/s/7u3lm737ogbqsg8/mushrooms_categorized.csv?dl=1) with Pandas. \n",
    "+ Explore the data (see the info of the data)\n",
    "+ Draw the istogram of the 'class' field. Decribe wath yuou see\n"
   ]
  },
  {
   "cell_type": "markdown",
   "metadata": {},
   "source": [
    "7\\. Load the remote file [https://www.dropbox.com/s/vkl89yce7xjdq4n/regression_generated.csv?dl=1](https://www.dropbox.com/s/vkl89yce7xjdq4n/regression_generated.csv?dl=1) with Pandas and plot a scatter plot all possible combination of the following fields:\n",
    "    \n",
    "  + features_1\n",
    "  + features_2\n",
    "  + features_3"
   ]
  },
  {
   "cell_type": "markdown",
   "metadata": {},
   "source": [
    "8\\. Load the same file of point 6, and convert the file to json with Pandas."
   ]
  }
 ],
 "metadata": {
  "kernelspec": {
   "display_name": "Python 3 (ipykernel)",
   "language": "python",
   "name": "python3"
  },
  "language_info": {
   "codemirror_mode": {
    "name": "ipython",
    "version": 3
   },
   "file_extension": ".py",
   "mimetype": "text/x-python",
   "name": "python",
   "nbconvert_exporter": "python",
   "pygments_lexer": "ipython3",
   "version": "3.12.4"
  }
 },
 "nbformat": 4,
 "nbformat_minor": 4
}
