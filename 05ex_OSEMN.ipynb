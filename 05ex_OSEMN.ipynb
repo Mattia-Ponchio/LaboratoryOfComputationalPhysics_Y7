{
 "cells": [
  {
   "cell_type": "markdown",
   "metadata": {},
   "source": [
    "# OSEMN Exercises"
   ]
  },
  {
   "cell_type": "code",
   "execution_count": 5,
   "metadata": {},
   "outputs": [],
   "source": [
    "%matplotlib inline\n",
    "import pandas as pd\n",
    "import numpy as np\n",
    "import numpy.random as npr\n",
    "npr.seed(42)"
   ]
  },
  {
   "cell_type": "markdown",
   "metadata": {},
   "source": [
    "1\\. Create a random list of number and then save it to a text file named \"simple_data.txt\""
   ]
  },
  {
   "cell_type": "code",
   "execution_count": 13,
   "metadata": {},
   "outputs": [],
   "source": [
    "file_name = \"simple_data.txt\"\n",
    "data = npr.randint(0,101,100,dtype = np.intp)\n",
    "np.savetxt(file_name,data, fmt=\"%.0f\")\n",
    "#with open(file_name, mode='w') as f:\n",
    " #   f.write(str(data))\n",
    "  #  f.close()"
   ]
  },
  {
   "cell_type": "markdown",
   "metadata": {},
   "source": [
    "2\\. Create a random matrix of 5x5 and then save it to a text file named \"data.txt\""
   ]
  },
  {
   "cell_type": "code",
   "execution_count": 17,
   "metadata": {},
   "outputs": [],
   "source": [
    "file_name_matrix = \"data.txt\"\n",
    "Matrix = npr.randint(0,101,(5,5),dtype = np.intp)\n",
    "np.savetxt(file_name_matrix,Matrix, fmt=\"%.0f\")"
   ]
  },
  {
   "cell_type": "markdown",
   "metadata": {},
   "source": [
    "3\\. Load the saved txt file of point 2 and convert it to a csv file (by hand)"
   ]
  },
  {
   "cell_type": "code",
   "execution_count": 62,
   "metadata": {},
   "outputs": [
    {
     "name": "stdout",
     "output_type": "stream",
     "text": [
      "['0,', '4,', '11,', '89,', '45,', '33,', '48,', '77,', '89,', '44,', '26,', '72,', '25,', '46,', '85,', '55,', '93,', '62,', '47,', '60,', '80,', '25,', '35,', '0,', '7,']\n",
      "['0,' '4,' '11,' '89,' '45,' '33,' '48,' '77,' '89,' '44,' '26,' '72,'\n",
      " '25,' '46,' '85,' '55,' '93,' '62,' '47,' '60,' '80,' '25,' '35,' '0,'\n",
      " '7,']\n",
      "[['0,' '4,' '11,' '89,' '45,']\n",
      " ['33,' '48,' '77,' '89,' '44,']\n",
      " ['26,' '72,' '25,' '46,' '85,']\n",
      " ['55,' '93,' '62,' '47,' '60,']\n",
      " ['80,' '25,' '35,' '0,' '7,']]\n"
     ]
    }
   ],
   "source": [
    "x = []\n",
    "with open(file_name_matrix, mode='r') as f:\n",
    "    for line in f:\n",
    "        for c in line.split(): x.append(c+\",\")\n",
    "print(x)\n",
    "\n",
    "y = np.array(x,dtype=str)\n",
    "print(y)\n",
    "y = y.reshape((5,5))\n",
    "print(y)\n",
    "\n",
    "!touch \"data_csv.txt\"\n",
    "with open(\"data_csv.txt\", mode='w') as f:\n",
    "    for row in y:\n",
    "        for column in row: f.write(str(column))\n",
    "        f.write(\"\\n\")\n",
    "    "
   ]
  },
  {
   "cell_type": "markdown",
   "metadata": {},
   "source": [
    "4\\. load the binary file named *credit_card.dat* and convert the data into the real credit-card number.\n",
    "Each line correspond to a credit card number.\n",
    "Each character is composed by 6 bit (even the space) and the last 4 bit are just a padding\n",
    "\n",
    "**hint**: use the `chr()` function to convert a number to a char"
   ]
  },
  {
   "cell_type": "code",
   "execution_count": null,
   "metadata": {},
   "outputs": [],
   "source": []
  },
  {
   "cell_type": "markdown",
   "metadata": {},
   "source": [
    "5\\. Load the file \"user_data.json\", filter the data by the \"CreditCardType\" field equals to \"American Express\". Than save the data a to CSV."
   ]
  },
  {
   "cell_type": "markdown",
   "metadata": {},
   "source": [
    "6\\. Load the file from this url: [https://www.dropbox.com/s/7u3lm737ogbqsg8/mushrooms_categorized.csv?dl=1](https://www.dropbox.com/s/7u3lm737ogbqsg8/mushrooms_categorized.csv?dl=1) with Pandas. \n",
    "+ Explore the data (see the info of the data)\n",
    "+ Draw the istogram of the 'class' field. Decribe wath yuou see\n"
   ]
  },
  {
   "cell_type": "markdown",
   "metadata": {},
   "source": [
    "7\\. Load the remote file [https://www.dropbox.com/s/vkl89yce7xjdq4n/regression_generated.csv?dl=1](https://www.dropbox.com/s/vkl89yce7xjdq4n/regression_generated.csv?dl=1) with Pandas and plot a scatter plot all possible combination of the following fields:\n",
    "    \n",
    "  + features_1\n",
    "  + features_2\n",
    "  + features_3"
   ]
  },
  {
   "cell_type": "markdown",
   "metadata": {},
   "source": [
    "8\\. Load the same file of point 6, and convert the file to json with Pandas."
   ]
  }
 ],
 "metadata": {
  "kernelspec": {
   "display_name": "Python 3",
   "language": "python",
   "name": "python3"
  },
  "language_info": {
   "codemirror_mode": {
    "name": "ipython",
    "version": 3
   },
   "file_extension": ".py",
   "mimetype": "text/x-python",
   "name": "python",
   "nbconvert_exporter": "python",
   "pygments_lexer": "ipython3",
   "version": "3.6.8"
  }
 },
 "nbformat": 4,
 "nbformat_minor": 2
}
