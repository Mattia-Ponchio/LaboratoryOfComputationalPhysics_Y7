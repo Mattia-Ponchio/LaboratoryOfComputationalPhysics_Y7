{
 "cells": [
  {
   "cell_type": "markdown",
   "metadata": {},
   "source": [
    "1\\. Write a function that converts number representation, bin<->dec<->hex. (Clearly using the corresponding python built-in functions is not fair..)"
   ]
  },
  {
   "cell_type": "code",
   "execution_count": 2,
   "metadata": {},
   "outputs": [
    {
     "name": "stdout",
     "output_type": "stream",
     "text": [
      "[1, 1, 0, 0, 0]\n",
      "11000\n",
      "0b11000\n",
      "[1, 8]\n",
      "18\n",
      "0x18\n"
     ]
    }
   ],
   "source": [
    "# My solution\n",
    "def NumConversion (N,b):\n",
    "    allBase = []\n",
    "    a_bin = []\n",
    "    b_bin = []\n",
    "    num_div = 1\n",
    "    N_hex = N\n",
    "    if (N == 0): a_bin.append(0)\n",
    "    elif (N == 1): a_bin.append(1)\n",
    "    else:\n",
    "        while (N > 0):\n",
    "            a_bin.append(N%2)\n",
    "            N = N//2\n",
    "    allBase.append(a_bin)\n",
    "    \n",
    "    while (N_hex > 0):\n",
    "        r = N_hex % 16\n",
    "        if (r <= 9): b_bin.append(r)\n",
    "        else: b_bin.append(chr(ord('a') + r-10))\n",
    "        N_hex = N_hex//16\n",
    "    allBase.append(b_bin)\n",
    "    \n",
    "    return (allBase[b])\n",
    "\n",
    "def Elementprint(a):\n",
    "    out = str('')\n",
    "    for i in range (0, len(a)): out += str(a[i])\n",
    "    return (out)\n",
    "\n",
    "num = 24\n",
    "num_bin = NumConversion(num,0)\n",
    "num_hex = NumConversion(num,1)\n",
    "num_bin.reverse()\n",
    "print( num_bin)\n",
    "print (Elementprint(num_bin))\n",
    "print( bin(num))\n",
    "num_hex.reverse()\n",
    "print (num_hex)\n",
    "print (Elementprint(num_hex))\n",
    "print( hex(num))"
   ]
  },
  {
   "cell_type": "markdown",
   "metadata": {},
   "source": [
    "2\\. Write a function that converts a 32 bit word into a single precision floating point (i.e. interprets the various bits as sign, mantissa and exponent)"
   ]
  },
  {
   "cell_type": "code",
   "execution_count": 40,
   "metadata": {},
   "outputs": [
    {
     "name": "stdin",
     "output_type": "stream",
     "text": [
      " 541255486\n"
     ]
    },
    {
     "name": "stdout",
     "output_type": "stream",
     "text": [
      "  100000010000101110011100111110\n",
      "10000101110011100111110\n",
      "64\n",
      "0\n"
     ]
    }
   ],
   "source": [
    "data = int(input())\n",
    "print(f\"{data:32b}\")\n",
    "#data_bin = data << 1\n",
    "#print(f\"{data_bin:32b}\")\n",
    "\n",
    "mantissa_mask = (2**23 - 1)\n",
    "mantissa = data & mantissa_mask\n",
    "print(f\"{mantissa:23b}\")\n",
    "\n",
    "data = data >> 23\n",
    "exp_mask = 2**8 - 1\n",
    "exp = data & exp_mask\n",
    "data = data >> 8\n",
    "sign_mask = 1\n",
    "sign = data & sign_mask\n",
    "\n",
    "\n",
    "print(exp)\n",
    "print(sign)\n",
    "\n",
    "bias = 127\n"
   ]
  },
  {
   "cell_type": "markdown",
   "metadata": {},
   "source": [
    "3\\. Write a program to determine the underflow and overflow limits (within a factor of 2) for python on your computer. \n",
    "\n",
    "**Tips**: define two variables inizialized to 1 and halve/double them enough time to exceed the under/over-flow limits  "
   ]
  },
  {
   "cell_type": "markdown",
   "metadata": {},
   "source": [
    "4\\. Write a program to determine the machine precision\n",
    "\n",
    "**Tips**: define a new variable by adding a smaller and smaller value (proceeding similarly to prob. 2) to an original variable and check the point where the two are the same "
   ]
  },
  {
   "cell_type": "markdown",
   "metadata": {},
   "source": [
    "5\\. Write a function that takes in input three parameters $a$, $b$ and $c$ and prints out the two solutions to the quadratic equation $ax^2+bx+c=0$ using the standard formula:\n",
    "$$\n",
    "x=\\frac{-b\\pm\\sqrt{b^2-4ac}}{2a}\n",
    "$$\n",
    "\n",
    "(a) use the program to compute the solution for $a=0.001$, $b=1000$ and $c=0.001$\n",
    "\n",
    "(b) re-express the standard solution formula by multiplying top and bottom by $-b\\mp\\sqrt{b^2-4ac}$ and again find the solution for $a=0.001$, $b=1000$ and $c=0.001$. How does it compare with what previously obtained? Why?\n",
    "\n",
    "(c) write a function that compute the roots of a quadratic equation accurately in all cases"
   ]
  },
  {
   "cell_type": "markdown",
   "metadata": {},
   "source": [
    "6\\. Write a program that implements the function $f(x)=x(x−1)$\n",
    "\n",
    "(a) Calculate the derivative of the function at the point $x = 1$ using the derivative definition:\n",
    "\n",
    "$$\n",
    "\\frac{{\\rm d}f}{{\\rm d}x} = \\lim_{\\delta\\to0} \\frac{f(x+\\delta)-f(x)}{\\delta}\n",
    "$$\n",
    "\n",
    "with $\\delta = 10^{−2}$. Calculate the true value of the same derivative analytically and compare with the answer your program gives. The two will not agree perfectly. Why not?\n",
    "\n",
    "(b) Repeat the calculation for $\\delta = 10^{−4}, 10^{−6}, 10^{−8}, 10^{−10}, 10^{−12}$ and $10^{−14}$. How does the accuracy scales with $\\delta$?"
   ]
  },
  {
   "cell_type": "markdown",
   "metadata": {},
   "source": [
    "7\\. Consider the integral of the semicircle of radius 1:\n",
    "$$\n",
    "I=\\int_{-1}^{1} \\sqrt(1-x^2) {\\rm d}x\n",
    "$$\n",
    "which it's known to be $I=\\frac{\\pi}{2}=1.57079632679...$.\n",
    "Alternatively we can use the Riemann definition of the integral:\n",
    "$$\n",
    "I=\\lim_{N\\to\\infty} \\sum_{k=1}^{N} h y_k \n",
    "$$\n",
    "\n",
    "with $h=2/N$ the width of each of the $N$ slices the domain is divided into and where\n",
    "$y_k$ is the value of the function at the $k-$th slice.\n",
    "\n",
    "(a) Write a programe to compute the integral with $N=100$. How does the result compares to the true value?\n",
    "\n",
    "(b) How much can $N$ be increased if the computation needs to be run in less than a second? What is the gain in running it for 1 minute? \n"
   ]
  },
  {
   "cell_type": "code",
   "execution_count": null,
   "metadata": {},
   "outputs": [],
   "source": []
  }
 ],
 "metadata": {
  "kernelspec": {
   "display_name": "Python 3 (ipykernel)",
   "language": "python",
   "name": "python3"
  },
  "language_info": {
   "codemirror_mode": {
    "name": "ipython",
    "version": 3
   },
   "file_extension": ".py",
   "mimetype": "text/x-python",
   "name": "python",
   "nbconvert_exporter": "python",
   "pygments_lexer": "ipython3",
   "version": "3.12.4"
  }
 },
 "nbformat": 4,
 "nbformat_minor": 4
}
