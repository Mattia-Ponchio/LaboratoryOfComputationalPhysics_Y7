{
 "cells": [
  {
   "cell_type": "markdown",
   "metadata": {},
   "source": [
    "Write a program that prints the numbers from 1 to 100. But for multiples of 3 print `Mickey` instead of the corresponding number and for the multiples of 5 print `Mouse`. For numbers which are multiples of both three and five print `MickeyMouse`"
   ]
  },
  {
   "cell_type": "code",
   "execution_count": 3,
   "metadata": {},
   "outputs": [
    {
     "name": "stdout",
     "output_type": "stream",
     "text": [
      "1\n",
      "2\n",
      "Mickey\n",
      "4\n",
      "Mouse\n",
      "Mickey\n",
      "7\n",
      "8\n",
      "Mickey\n",
      "Mouse\n",
      "11\n",
      "Mickey\n",
      "13\n",
      "14\n",
      "MickeyMouse\n",
      "16\n",
      "17\n",
      "Mickey\n",
      "19\n",
      "Mouse\n",
      "Mickey\n",
      "22\n",
      "23\n",
      "Mickey\n",
      "Mouse\n",
      "26\n",
      "Mickey\n",
      "28\n",
      "29\n",
      "MickeyMouse\n",
      "31\n",
      "32\n",
      "Mickey\n",
      "34\n",
      "Mouse\n",
      "Mickey\n",
      "37\n",
      "38\n",
      "Mickey\n",
      "Mouse\n",
      "41\n",
      "Mickey\n",
      "43\n",
      "44\n",
      "MickeyMouse\n",
      "46\n",
      "47\n",
      "Mickey\n",
      "49\n",
      "Mouse\n",
      "Mickey\n",
      "52\n",
      "53\n",
      "Mickey\n",
      "Mouse\n",
      "56\n",
      "Mickey\n",
      "58\n",
      "59\n",
      "MickeyMouse\n",
      "61\n",
      "62\n",
      "Mickey\n",
      "64\n",
      "Mouse\n",
      "Mickey\n",
      "67\n",
      "68\n",
      "Mickey\n",
      "Mouse\n",
      "71\n",
      "Mickey\n",
      "73\n",
      "74\n",
      "MickeyMouse\n",
      "76\n",
      "77\n",
      "Mickey\n",
      "79\n",
      "Mouse\n",
      "Mickey\n",
      "82\n",
      "83\n",
      "Mickey\n",
      "Mouse\n",
      "86\n",
      "Mickey\n",
      "88\n",
      "89\n",
      "MickeyMouse\n",
      "91\n",
      "92\n",
      "Mickey\n",
      "94\n",
      "Mouse\n",
      "Mickey\n",
      "97\n",
      "98\n",
      "Mickey\n",
      "Mouse\n"
     ]
    }
   ],
   "source": [
    "for i in range (1,101):\n",
    "    #Parenthesis are both necessary\n",
    "    if ( (i%3 == 0) & (i%5 == 0) ): print(\"MickeyMouse\")\n",
    "    elif (i%3 == 0): print(\"Mickey\")\n",
    "    elif (i%5 == 0): print(\"Mouse\")\n",
    "    else: print(i)"
   ]
  },
  {
   "cell_type": "markdown",
   "metadata": {},
   "source": [
    "Put the result in a tuple and substitute `Mickey` with `Donald` and `Mouse` with `Duck`"
   ]
  },
  {
   "cell_type": "code",
   "execution_count": 37,
   "metadata": {},
   "outputs": [
    {
     "name": "stdout",
     "output_type": "stream",
     "text": [
      "(1, 2, 'Donald', 4, 'Duck', 'Donald', 7, 8, 'Donald', 'Duck', 11, 'Donald', 13, 14, 'MouseDuck', 16, 17, 'Donald', 19, 'Duck', 'Donald', 22, 23, 'Donald', 'Duck', 26, 'Donald', 28, 29, 'MouseDuck', 31, 32, 'Donald', 34, 'Duck', 'Donald', 37, 38, 'Donald', 'Duck', 41, 'Donald', 43, 44, 'MouseDuck', 46, 47, 'Donald', 49, 'Duck', 'Donald', 52, 53, 'Donald', 'Duck', 56, 'Donald', 58, 59, 'MouseDuck', 61, 62, 'Donald', 64, 'Duck', 'Donald', 67, 68, 'Donald', 'Duck', 71, 'Donald', 73, 74, 'MouseDuck', 76, 77, 'Donald', 79, 'Duck', 'Donald', 82, 83, 'Donald', 'Duck', 86, 'Donald', 88, 89, 'MouseDuck', 91, 92, 'Donald', 94, 'Duck', 'Donald', 97, 98, 'Donald', 'Duck')\n"
     ]
    }
   ],
   "source": [
    "a = []\n",
    "for i in range (1,101):\n",
    "    #Parenthesis are both necessary\n",
    "    if ( (i%3 == 0) & (i%5 == 0) ): a.append(\"MouseDuck\")\n",
    "    elif (i%3 == 0): a.append(\"Donald\")\n",
    "    elif (i%5 == 0): a.append(\"Duck\")\n",
    "    else: a.append(i)\n",
    "b = tuple(a)\n",
    "print(b)"
   ]
  },
  {
   "cell_type": "markdown",
   "metadata": {},
   "source": [
    "Write a function that swap the values of two input variables x and y (whatever the type). Try to do that also without a temporary variable"
   ]
  },
  {
   "cell_type": "code",
   "execution_count": 1,
   "metadata": {},
   "outputs": [
    {
     "name": "stdout",
     "output_type": "stream",
     "text": [
      "Set the value of x 20\n",
      "Set the value of y 10\n",
      "Your input was 20,10\n",
      "Your output is 10, 20\n",
      "Your output is 10, 20\n"
     ]
    }
   ],
   "source": [
    "def MySwap (x,y):\n",
    "    temp = y\n",
    "    y = x\n",
    "    x = temp\n",
    "    return(x,y)\n",
    "\n",
    "def LazySwap (x,y):\n",
    "    return (y,x)\n",
    "\n",
    "x = input(\"Set the value of x \")\n",
    "y = input(\"Set the value of y \")\n",
    "print(f\"Your input was {x},{y}\")\n",
    "a,b = MySwap(x, y)\n",
    "print (f\"Your output is {a}, {b}\")\n",
    "\n",
    "#Smart swapping\n",
    "x, y = LazySwap(x,y)\n",
    "print(f\"Your output is {x}, {y}\")"
   ]
  },
  {
   "cell_type": "markdown",
   "metadata": {},
   "source": [
    "Write a function that calculates and returns the euclidean distance between two points *u* and *v*, where *u* and *v* are both 2-tuples *(x,y)*. For example, if *u=(3,0)* and *v=(0,4)*, the function should return 5"
   ]
  },
  {
   "cell_type": "code",
   "execution_count": 4,
   "metadata": {},
   "outputs": [
    {
     "name": "stdout",
     "output_type": "stream",
     "text": [
      "5.0\n"
     ]
    }
   ],
   "source": [
    "def Distance (u,v):\n",
    "    return (pow((pow((u[0]-v[0]),2)+ pow((u[1]-v[1]),2)),1/2))\n",
    "\n",
    "x1, y1 = 3 , 0\n",
    "x2, y2 = 0 , 4\n",
    "\n",
    "u = (x1, y1)\n",
    "v = (x2, y2)\n",
    "\n",
    "dist = Distance(u,v)\n",
    "print(dist)"
   ]
  },
  {
   "cell_type": "markdown",
   "metadata": {},
   "source": [
    "Write a program to calculate the number of times each character occurs in a given string *s*. Ignore differences in capitalization"
   ]
  },
  {
   "cell_type": "code",
   "execution_count": 7,
   "metadata": {},
   "outputs": [
    {
     "name": "stdout",
     "output_type": "stream",
     "text": [
      "a   7\n",
      "b   5\n",
      "c   3\n",
      "d   3\n",
      "e   22\n",
      "f   10\n",
      "g   1\n",
      "h   9\n",
      "i   14\n",
      "j   0\n",
      "k   2\n",
      "l   6\n",
      "m   12\n",
      "n   10\n",
      "o   13\n",
      "p   8\n",
      "q   0\n",
      "r   17\n",
      "s   9\n",
      "t   19\n",
      "u   9\n",
      "v   2\n",
      "w   2\n",
      "x   0\n",
      "y   2\n",
      "z   0\n",
      "w\n",
      "r\n",
      "i\n",
      "t\n"
     ]
    }
   ],
   "source": [
    "s=\"Write a program that prints the numbers from 1 to 100. \\\n",
    "But for multiples of three print Mickey instead of the number and for the multiples of five print Mouse. \\\n",
    "For numbers which are multiples of both three and five print MickeyMouse\"\n",
    "\n",
    "# For only letters in alphabetical order\n",
    "# ord(<letter>) returns the integer representing the chosen letter\n",
    "# chr(<number>) returns the character representing the chosen integer\n",
    "\n",
    "d = [chr(i) for i in range(ord('a'),ord('z')+1)]\n",
    "\n",
    "for i in range (0,len(d)):\n",
    "    counter = 0\n",
    "    for j in s.lower():\n",
    "        if (d[i] == j): counter += 1\n",
    "    print (d[i], \" \" , counter)\n",
    "\n",
    "# Every possibile character\n"
   ]
  },
  {
   "cell_type": "code",
   "execution_count": null,
   "metadata": {},
   "outputs": [],
   "source": []
  }
 ],
 "metadata": {
  "kernelspec": {
   "display_name": "Python 3",
   "language": "python",
   "name": "python3"
  },
  "language_info": {
   "codemirror_mode": {
    "name": "ipython",
    "version": 3
   },
   "file_extension": ".py",
   "mimetype": "text/x-python",
   "name": "python",
   "nbconvert_exporter": "python",
   "pygments_lexer": "ipython3",
   "version": "3.6.8"
  }
 },
 "nbformat": 4,
 "nbformat_minor": 2
}
