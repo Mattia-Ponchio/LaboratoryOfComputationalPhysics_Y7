{
 "cells": [
  {
   "cell_type": "markdown",
   "metadata": {},
   "source": [
    "Write a program that prints the numbers from 1 to 100. But for multiples of 3 print `Mickey` instead of the corresponding number and for the multiples of 5 print `Mouse`. For numbers which are multiples of both three and five print `MickeyMouse`"
   ]
  },
  {
   "cell_type": "code",
   "execution_count": 3,
   "metadata": {},
   "outputs": [
    {
     "name": "stdout",
     "output_type": "stream",
     "text": [
      "1\n",
      "2\n",
      "Mickey\n",
      "4\n",
      "Mouse\n",
      "Mickey\n",
      "7\n",
      "8\n",
      "Mickey\n",
      "Mouse\n",
      "11\n",
      "Mickey\n",
      "13\n",
      "14\n",
      "MickeyMouse\n",
      "16\n",
      "17\n",
      "Mickey\n",
      "19\n",
      "Mouse\n",
      "Mickey\n",
      "22\n",
      "23\n",
      "Mickey\n",
      "Mouse\n",
      "26\n",
      "Mickey\n",
      "28\n",
      "29\n",
      "MickeyMouse\n",
      "31\n",
      "32\n",
      "Mickey\n",
      "34\n",
      "Mouse\n",
      "Mickey\n",
      "37\n",
      "38\n",
      "Mickey\n",
      "Mouse\n",
      "41\n",
      "Mickey\n",
      "43\n",
      "44\n",
      "MickeyMouse\n",
      "46\n",
      "47\n",
      "Mickey\n",
      "49\n",
      "Mouse\n",
      "Mickey\n",
      "52\n",
      "53\n",
      "Mickey\n",
      "Mouse\n",
      "56\n",
      "Mickey\n",
      "58\n",
      "59\n",
      "MickeyMouse\n",
      "61\n",
      "62\n",
      "Mickey\n",
      "64\n",
      "Mouse\n",
      "Mickey\n",
      "67\n",
      "68\n",
      "Mickey\n",
      "Mouse\n",
      "71\n",
      "Mickey\n",
      "73\n",
      "74\n",
      "MickeyMouse\n",
      "76\n",
      "77\n",
      "Mickey\n",
      "79\n",
      "Mouse\n",
      "Mickey\n",
      "82\n",
      "83\n",
      "Mickey\n",
      "Mouse\n",
      "86\n",
      "Mickey\n",
      "88\n",
      "89\n",
      "MickeyMouse\n",
      "91\n",
      "92\n",
      "Mickey\n",
      "94\n",
      "Mouse\n",
      "Mickey\n",
      "97\n",
      "98\n",
      "Mickey\n",
      "Mouse\n"
     ]
    }
   ],
   "source": [
    "for i in range (1,101):\n",
    "    #Parenthesis are both necessary\n",
    "    if ( (i%3 == 0) & (i%5 == 0) ): print(\"MickeyMouse\")\n",
    "    elif (i%3 == 0): print(\"Mickey\")\n",
    "    elif (i%5 == 0): print(\"Mouse\")\n",
    "    else: print(i)"
   ]
  },
  {
   "cell_type": "markdown",
   "metadata": {},
   "source": [
    "Put the result in a tuple and substitute `Mickey` with `Donald` and `Mouse` with `Duck`"
   ]
  },
  {
   "cell_type": "code",
   "execution_count": 37,
   "metadata": {},
   "outputs": [
    {
     "name": "stdout",
     "output_type": "stream",
     "text": [
      "(1, 2, 'Donald', 4, 'Duck', 'Donald', 7, 8, 'Donald', 'Duck', 11, 'Donald', 13, 14, 'MouseDuck', 16, 17, 'Donald', 19, 'Duck', 'Donald', 22, 23, 'Donald', 'Duck', 26, 'Donald', 28, 29, 'MouseDuck', 31, 32, 'Donald', 34, 'Duck', 'Donald', 37, 38, 'Donald', 'Duck', 41, 'Donald', 43, 44, 'MouseDuck', 46, 47, 'Donald', 49, 'Duck', 'Donald', 52, 53, 'Donald', 'Duck', 56, 'Donald', 58, 59, 'MouseDuck', 61, 62, 'Donald', 64, 'Duck', 'Donald', 67, 68, 'Donald', 'Duck', 71, 'Donald', 73, 74, 'MouseDuck', 76, 77, 'Donald', 79, 'Duck', 'Donald', 82, 83, 'Donald', 'Duck', 86, 'Donald', 88, 89, 'MouseDuck', 91, 92, 'Donald', 94, 'Duck', 'Donald', 97, 98, 'Donald', 'Duck')\n"
     ]
    }
   ],
   "source": [
    "a = []\n",
    "for i in range (1,101):\n",
    "    #Parenthesis are both necessary\n",
    "    if ( (i%3 == 0) & (i%5 == 0) ): a.append(\"MouseDuck\")\n",
    "    elif (i%3 == 0): a.append(\"Donald\")\n",
    "    elif (i%5 == 0): a.append(\"Duck\")\n",
    "    else: a.append(i)\n",
    "b = tuple(a)\n",
    "print(b)"
   ]
  },
  {
   "cell_type": "markdown",
   "metadata": {},
   "source": [
    "2\\. The swap function\n",
    "\n",
    "Write a function that swap the values of two input variables x and y (whatever the type). Try to do that also without a temporary variable"
   ]
  },
  {
   "cell_type": "code",
   "execution_count": 1,
   "metadata": {},
   "outputs": [
    {
     "name": "stdout",
     "output_type": "stream",
     "text": [
      "Set the value of x 20\n",
      "Set the value of y 10\n",
      "Your input was 20,10\n",
      "Your output is 10, 20\n",
      "Your output is 10, 20\n"
     ]
    }
   ],
   "source": [
    "def MySwap (x,y):\n",
    "    temp = y\n",
    "    y = x\n",
    "    x = temp\n",
    "    return(x,y)\n",
    "\n",
    "def LazySwap (x,y):\n",
    "    return (y,x)\n",
    "\n",
    "x = input(\"Set the value of x \")\n",
    "y = input(\"Set the value of y \")\n",
    "print(f\"Your input was {x},{y}\")\n",
    "a,b = MySwap(x, y)\n",
    "print (f\"Your output is {a}, {b}\")\n",
    "\n",
    "#Smart swapping\n",
    "x, y = LazySwap(x,y)\n",
    "print(f\"Your output is {x}, {y}\")"
   ]
  },
  {
   "cell_type": "markdown",
   "metadata": {},
   "source": [
    "3\\. Computing the distance\n",
    "\n",
    "Write a function that calculates and returns the euclidean distance between two points *u* and *v*, where *u* and *v* are both 2-tuples *(x,y)*. For example, if *u=(3,0)* and *v=(0,4)*, the function should return 5"
   ]
  },
  {
   "cell_type": "code",
   "execution_count": 4,
   "metadata": {},
   "outputs": [
    {
     "name": "stdout",
     "output_type": "stream",
     "text": [
      "5.0\n"
     ]
    }
   ],
   "source": [
    "def Distance (u,v):\n",
    "    return (pow((pow((u[0]-v[0]),2)+ pow((u[1]-v[1]),2)),1/2))\n",
    "\n",
    "x1, y1 = 3 , 0\n",
    "x2, y2 = 0 , 4\n",
    "\n",
    "u = (x1, y1)\n",
    "v = (x2, y2)\n",
    "\n",
    "dist = Distance(u,v)\n",
    "print(dist)"
   ]
  },
  {
   "cell_type": "markdown",
   "metadata": {},
   "source": [
    "4\\. Counting letters\n",
    "\n",
    "Write a program to calculate the number of times each character occurs in a given string *s*. Ignore differneces in capitalization"
   ]
  },
  {
   "cell_type": "code",
   "execution_count": 15,
   "metadata": {},
   "outputs": [
    {
     "name": "stdout",
     "output_type": "stream",
     "text": [
      "w  2\n",
      "r  17\n",
      "i  14\n",
      "t  19\n",
      "e  22\n",
      "   41\n",
      "a  7\n",
      "p  8\n",
      "o  13\n",
      "g  1\n",
      "m  12\n",
      "h  9\n",
      "n  10\n",
      "s  9\n",
      "u  9\n",
      "b  5\n",
      "f  10\n",
      "1  2\n",
      "0  2\n",
      ".  2\n",
      "l  6\n",
      "c  3\n",
      "k  2\n",
      "y  2\n",
      "d  3\n",
      "v  2\n",
      "\n",
      "\n",
      "   41\n",
      ".  2\n",
      "0  2\n",
      "1  2\n",
      "a  7\n",
      "b  5\n",
      "c  3\n",
      "d  3\n",
      "e  22\n",
      "f  10\n",
      "g  1\n",
      "h  9\n",
      "i  14\n",
      "k  2\n",
      "l  6\n",
      "m  12\n",
      "n  10\n",
      "o  13\n",
      "p  8\n",
      "r  17\n",
      "s  9\n",
      "t  19\n",
      "u  9\n",
      "v  2\n",
      "w  2\n",
      "y  2\n",
      "\n",
      "\n",
      "g  1\n",
      "w  2\n",
      "1  2\n",
      "0  2\n",
      ".  2\n",
      "k  2\n",
      "y  2\n",
      "v  2\n",
      "c  3\n",
      "d  3\n",
      "b  5\n",
      "l  6\n",
      "a  7\n",
      "p  8\n",
      "h  9\n",
      "s  9\n",
      "u  9\n",
      "n  10\n",
      "f  10\n",
      "m  12\n",
      "o  13\n",
      "i  14\n",
      "r  17\n",
      "t  19\n",
      "e  22\n",
      "   41\n"
     ]
    }
   ],
   "source": [
    "s=\"Write a program that prints the numbers from 1 to 100. \\\n",
    "But for multiples of three print Mickey instead of the number and for the multiples of five print Mouse. \\\n",
    "For numbers which are multiples of both three and five print MickeyMouse\"\n",
    "\n",
    "# For only letters in alphabetical order\n",
    "# ord(<letter>) returns the integer representing the chosen letter\n",
    "# chr(<number>) returns the character representing the chosen integer\n",
    "\n",
    "'''d = [chr(i) for i in range(ord('a'),ord('z')+1)]\n",
    "\n",
    "for i in range (0,len(d)):\n",
    "    counter = 0\n",
    "    for j in s.lower():\n",
    "        if (d[i] == j): counter += 1\n",
    "    print (d[i], \" \" , counter)'''\n",
    "\n",
    "# Every possibile character: Use a dictionary since keys must be unique\n",
    "# Printing characters in first appearance order\n",
    "s = s.lower()\n",
    "AllChars = {}\n",
    "for item in s:\n",
    "    if (item in AllChars): AllChars[item] +=1\n",
    "    else: AllChars[item] = 1\n",
    "\n",
    "for key, value in AllChars.items():\n",
    "    print(f\"{key}  {value}\")\n",
    "    \n",
    "print('\\n')\n",
    "# Printing in alphabetical order: default behaviour of sorted is to return a tuple ordered alphabetically or in increasing order\n",
    "AB = dict(sorted(AllChars.items()))\n",
    "for key, value in AB.items():\n",
    "    print(f\"{key}  {value}\")\n",
    "    \n",
    "print('\\n')\n",
    "# Printing in Frequency order with the use of a lambda function that checks the frequencies in the dictionary\n",
    "Freq = dict(sorted(AllChars.items(), key = lambda item: item[1]))\n",
    "for key, value in Freq.items():\n",
    "    print(f\"{key}  {value}\")"
   ]
  },
  {
   "cell_type": "markdown",
   "metadata": {},
   "source": [
    "5\\. Isolating the unique\n",
    "\n",
    "Write a function that determines and count the unique numbers in the list *l*"
   ]
  },
  {
   "cell_type": "code",
   "execution_count": 18,
   "metadata": {},
   "outputs": [
    {
     "name": "stdout",
     "output_type": "stream",
     "text": [
      "[1, 3, 3, 5, 8, 9, 10, 16, 18, 19, 20, 20, 20, 24, 30, 31, 31, 33, 34, 34, 36, 36, 36, 37, 39, 41, 42, 42, 45, 45, 45, 47, 50, 50, 51, 51, 51, 53, 54, 55, 56, 56, 57, 58, 63, 63, 64, 66, 66, 70, 70, 70, 72, 74, 75, 79, 81, 82, 84, 84, 84, 84, 85, 85, 85, 86, 87, 88, 89, 89, 90, 91, 91, 91, 92, 94, 95, 96, 98, 99] \n",
      "\n",
      "Il numero 1 ha frequenza assoluta 1\n",
      "Il numero 3 ha frequenza assoluta 2\n",
      "Il numero 5 ha frequenza assoluta 1\n",
      "Il numero 8 ha frequenza assoluta 1\n",
      "Il numero 9 ha frequenza assoluta 1\n",
      "Il numero 10 ha frequenza assoluta 1\n",
      "Il numero 16 ha frequenza assoluta 1\n",
      "Il numero 18 ha frequenza assoluta 1\n",
      "Il numero 19 ha frequenza assoluta 1\n",
      "Il numero 20 ha frequenza assoluta 3\n",
      "Il numero 24 ha frequenza assoluta 1\n",
      "Il numero 30 ha frequenza assoluta 1\n",
      "Il numero 31 ha frequenza assoluta 2\n",
      "Il numero 33 ha frequenza assoluta 1\n",
      "Il numero 34 ha frequenza assoluta 2\n",
      "Il numero 36 ha frequenza assoluta 3\n",
      "Il numero 37 ha frequenza assoluta 1\n",
      "Il numero 39 ha frequenza assoluta 1\n",
      "Il numero 41 ha frequenza assoluta 1\n",
      "Il numero 42 ha frequenza assoluta 2\n",
      "Il numero 45 ha frequenza assoluta 3\n",
      "Il numero 47 ha frequenza assoluta 1\n",
      "Il numero 50 ha frequenza assoluta 2\n",
      "Il numero 51 ha frequenza assoluta 3\n",
      "Il numero 53 ha frequenza assoluta 1\n",
      "Il numero 54 ha frequenza assoluta 1\n",
      "Il numero 55 ha frequenza assoluta 1\n",
      "Il numero 56 ha frequenza assoluta 2\n",
      "Il numero 57 ha frequenza assoluta 1\n",
      "Il numero 58 ha frequenza assoluta 1\n",
      "Il numero 63 ha frequenza assoluta 2\n",
      "Il numero 64 ha frequenza assoluta 1\n",
      "Il numero 66 ha frequenza assoluta 2\n",
      "Il numero 70 ha frequenza assoluta 3\n",
      "Il numero 72 ha frequenza assoluta 1\n",
      "Il numero 74 ha frequenza assoluta 1\n",
      "Il numero 75 ha frequenza assoluta 1\n",
      "Il numero 79 ha frequenza assoluta 1\n",
      "Il numero 81 ha frequenza assoluta 1\n",
      "Il numero 82 ha frequenza assoluta 1\n",
      "Il numero 84 ha frequenza assoluta 4\n",
      "Il numero 85 ha frequenza assoluta 3\n",
      "Il numero 86 ha frequenza assoluta 1\n",
      "Il numero 87 ha frequenza assoluta 1\n",
      "Il numero 88 ha frequenza assoluta 1\n",
      "Il numero 89 ha frequenza assoluta 2\n",
      "Il numero 90 ha frequenza assoluta 1\n",
      "Il numero 91 ha frequenza assoluta 3\n",
      "Il numero 92 ha frequenza assoluta 1\n",
      "Il numero 94 ha frequenza assoluta 1\n",
      "Il numero 95 ha frequenza assoluta 1\n",
      "Il numero 96 ha frequenza assoluta 1\n",
      "Il numero 98 ha frequenza assoluta 1\n",
      "Il numero 99 ha frequenza assoluta 1\n"
     ]
    }
   ],
   "source": [
    "l = [36, 45, 58, 3, 74, 96, 64, 45, 31, 10, 24, 19, 33, 86, 99, 18, 63, 70, 85,\n",
    " 85, 63, 47, 56, 42, 70, 84, 88, 55, 20, 54, 8, 56, 51, 79, 81, 57, 37, 91,\n",
    " 1, 84, 84, 36, 66, 9, 89, 50, 42, 91, 50, 95, 90, 98, 39, 16, 82, 31, 92, 41,\n",
    " 45, 30, 66, 70, 34, 85, 94, 5, 3, 36, 72, 91, 84, 34, 87, 75, 53, 51, 20, 89, 51, 20]\n",
    "\n",
    "def Counting(Elenco):\n",
    "    Elenco = sorted(Elenco)\n",
    "    Conteggi = {}\n",
    "    for item in Elenco:\n",
    "        if ( item in Conteggi): Conteggi[item] +=1\n",
    "        else: Conteggi[item] = 1\n",
    "            \n",
    "    for key, value in Conteggi.items():\n",
    "        print(f\"Il numero {key} ha frequenza assoluta {value}\")\n",
    "    \n",
    "print(sorted(l),'\\n')\n",
    "\n",
    "Counting(l)\n"
   ]
  },
  {
   "cell_type": "markdown",
   "metadata": {},
   "source": [
    "6\\. Combination of functions\n",
    "\n",
    "Write two functions - one that returns the square of a number, and one that returns the cube. Now write a third function that returns the number raised to the 6th power using the two previous functions."
   ]
  },
  {
   "cell_type": "code",
   "execution_count": 20,
   "metadata": {},
   "outputs": [
    {
     "name": "stdout",
     "output_type": "stream",
     "text": [
      "4\n",
      "8\n",
      "64\n"
     ]
    }
   ],
   "source": [
    "def Square(n):\n",
    "    return(pow(n,2))\n",
    "\n",
    "def Cube(n):\n",
    "    return(pow(n,3))\n",
    "\n",
    "def Sixth(n):\n",
    "    return(Square(Cube(n)))\n",
    "\n",
    "N = 2\n",
    "print(Square(N))\n",
    "print(Cube(N))\n",
    "print(Sixth(N))"
   ]
  },
  {
   "cell_type": "markdown",
   "metadata": {},
   "source": [
    "7\\. Cubes\n",
    "\n",
    "Create a list of the cubes of x for x in *[0, 10]* using:\n",
    "\n",
    "a) a for loop\n",
    "\n",
    "b) a list comprehension"
   ]
  },
  {
   "cell_type": "code",
   "execution_count": 23,
   "metadata": {},
   "outputs": [
    {
     "name": "stdout",
     "output_type": "stream",
     "text": [
      "[0, 1, 8, 27, 64, 125, 216, 343, 512, 729, 1000]\n",
      "[0, 1, 8, 27, 64, 125, 216, 343, 512, 729, 1000]\n"
     ]
    }
   ],
   "source": [
    "LoopList = []\n",
    "for i in range (0,11):\n",
    "    LoopList.append(pow(i,3))\n",
    "print(LoopList)\n",
    "\n",
    "ComprehensionList = [pow(x,3) for x in range (0,11)]\n",
    "print(ComprehensionList)"
   ]
  },
  {
   "cell_type": "markdown",
   "metadata": {},
   "source": [
    "8\\. Nested list comprehension\n",
    "\n",
    "A Pythagorean triple is an integer solution to the Pythagorean theorem $a^2+b^2=c^2$. The first Pythagorean triple is (3,4,5). Find and put in a tuple all unique Pythagorean triples for the positive integers a, b and c less than 100."
   ]
  },
  {
   "cell_type": "code",
   "execution_count": 40,
   "metadata": {},
   "outputs": [
    {
     "name": "stdout",
     "output_type": "stream",
     "text": [
      "((3, 4, 5), (5, 12, 13), (6, 8, 10), (7, 24, 25), (8, 15, 17), (9, 12, 15), (9, 40, 41), (10, 24, 26), (11, 60, 61), (12, 16, 20), (12, 35, 37), (13, 84, 85), (14, 48, 50), (15, 20, 25), (15, 36, 39), (16, 30, 34), (16, 63, 65), (18, 24, 30), (18, 80, 82), (20, 21, 29), (20, 48, 52), (21, 28, 35), (21, 72, 75), (24, 32, 40), (24, 45, 51), (24, 70, 74), (25, 60, 65), (27, 36, 45), (28, 45, 53), (30, 40, 50), (30, 72, 78), (32, 60, 68), (33, 44, 55), (33, 56, 65), (35, 84, 91), (36, 48, 60), (36, 77, 85), (39, 52, 65), (39, 80, 89), (40, 42, 58), (40, 75, 85), (42, 56, 70), (45, 60, 75), (48, 55, 73), (48, 64, 80), (51, 68, 85), (54, 72, 90), (57, 76, 95), (60, 63, 87), (65, 72, 97))\n"
     ]
    }
   ],
   "source": [
    "Pyth_triple = []\n",
    "for a in range (1,100):\n",
    "    for b in range (1,100):\n",
    "        for c in range(1,100):\n",
    "            if ( pow(a,2) + pow(b,2) == pow(c,2) and (a<=b) ): Pyth_triple += [(a,b,c)]\n",
    "\n",
    "Pyth_triple = tuple(sorted(Pyth_triple))\n",
    "\n",
    "print(Pyth_triple)"
   ]
  },
  {
   "cell_type": "markdown",
   "metadata": {},
   "source": [
    "9\\. Normalization\n",
    "\n",
    "Write a function that takes a tuple of numbers and returns it with the entries normalized to one"
   ]
  },
  {
   "cell_type": "code",
   "execution_count": 1,
   "metadata": {},
   "outputs": [
    {
     "name": "stdout",
     "output_type": "stream",
     "text": [
      "(0.0, 0.6, 0.8)\n"
     ]
    }
   ],
   "source": [
    "def Normalize (v):\n",
    "    sum = 0\n",
    "    for item in v: sum += pow(item,2)\n",
    "    w = [x/(pow(sum,1/2)) for x in v]\n",
    "    return(tuple(w))\n",
    "    \n",
    "# Test 3D vector with lenght 5\n",
    "test_v = (0,3,4)\n",
    "norm_v = Normalize(test_v)\n",
    "print(norm_v)\n",
    "    "
   ]
  }
 ],
 "metadata": {
  "kernelspec": {
   "display_name": "Python 3 (ipykernel)",
   "language": "python",
   "name": "python3"
  },
  "language_info": {
   "codemirror_mode": {
    "name": "ipython",
    "version": 3
   },
   "file_extension": ".py",
   "mimetype": "text/x-python",
   "name": "python",
   "nbconvert_exporter": "python",
   "pygments_lexer": "ipython3",
   "version": "3.12.4"
  }
 },
 "nbformat": 4,
 "nbformat_minor": 4
}
